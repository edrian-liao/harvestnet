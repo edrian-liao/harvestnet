{
  "cells": [
    {
      "cell_type": "markdown",
      "metadata": {
        "id": "view-in-github",
        "colab_type": "text"
      },
      "source": [
        "<a href=\"https://colab.research.google.com/github/edrian-liao/harvestnet/blob/main/notebooks/HarvestNet_Evaluate_Model_Subdivisions.ipynb\" target=\"_parent\"><img src=\"https://colab.research.google.com/assets/colab-badge.svg\" alt=\"Open In Colab\"/></a>"
      ]
    },
    {
      "cell_type": "code",
      "source": [
        "!pip install wandb -qU\n",
        "!pip install torchmetrics -qU\n",
        "!pip install accelerate -qU"
      ],
      "metadata": {
        "id": "CBRpm-H3QSzH"
      },
      "execution_count": 3,
      "outputs": []
    },
    {
      "cell_type": "code",
      "execution_count": 4,
      "metadata": {
        "id": "sEizrYBwQGV7"
      },
      "outputs": [],
      "source": [
        "import os\n",
        "import time\n",
        "import torch\n",
        "from torch.utils.data import DataLoader\n",
        "import torchvision\n",
        "import wandb\n",
        "import numpy as np\n",
        "from torchmetrics import Accuracy, F1Score, AUROC, Precision, Recall\n",
        "from accelerate import Accelerator\n",
        "from collections import defaultdict\n",
        "import cv2"
      ]
    },
    {
      "cell_type": "code",
      "execution_count": 5,
      "metadata": {
        "id": "lpJMz_GKQGV7"
      },
      "outputs": [],
      "source": [
        "from tools.dataset import SkysatLabelled\n",
        "from tools.config import Config_Resnet"
      ]
    },
    {
      "cell_type": "code",
      "source": [
        "class ResNet50(torch.nn.Module):\n",
        "    def __init__(self, num_classes, model_weights_path):\n",
        "        super(ResNet50, self).__init__()\n",
        "        self.resnet50 = torchvision.models.resnet50()\n",
        "        num_features = self.resnet50.fc.out_features\n",
        "        self.fc = torch.nn.Sequential(\n",
        "            torch.nn.Linear(num_features, num_classes),\n",
        "            torch.nn.Sigmoid(),\n",
        "        )\n",
        "        # Load the state dictionary\n",
        "        state_dict = torch.load(model_weights_path)\n",
        "        # Assign the loaded state dictionary to the model\n",
        "        self.load_state_dict(state_dict)\n",
        "\n",
        "    def forward(self, x):\n",
        "        logits = self.resnet50(x)\n",
        "        return self.fc(logits)\n",
        "\n",
        "# Example usage:\n",
        "num_classes = 10  # Number of output classes\n",
        "model_weights_path = 'best_resnet.pth'\n",
        "model = ResNet50(num_classes, model_weights_path)"
      ],
      "metadata": {
        "id": "_1eeo4b5Qolz"
      },
      "execution_count": null,
      "outputs": []
    }
  ],
  "metadata": {
    "language_info": {
      "name": "python"
    },
    "colab": {
      "provenance": [],
      "gpuType": "T4",
      "include_colab_link": true
    },
    "kernelspec": {
      "name": "python3",
      "display_name": "Python 3"
    },
    "accelerator": "GPU"
  },
  "nbformat": 4,
  "nbformat_minor": 0
}